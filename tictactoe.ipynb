{
 "cells": [
  {
   "cell_type": "markdown",
   "id": "0549b166",
   "metadata": {},
   "source": [
    "# Tic Tac Toe"
   ]
  },
  {
   "cell_type": "code",
   "execution_count": 1,
   "id": "952147b0",
   "metadata": {},
   "outputs": [],
   "source": [
    "# making the game board"
   ]
  },
  {
   "cell_type": "code",
   "execution_count": 33,
   "id": "5e6a549f",
   "metadata": {},
   "outputs": [],
   "source": [
    "board = [\"-\",\"-\",\"-\",\n",
    "        \"-\",\"-\",\"-\",\n",
    "        \"-\",\"-\",\"-\"]\n",
    "currentPlayer = \"X\"\n",
    "winner = None\n",
    "gameRunning = True\n"
   ]
  },
  {
   "cell_type": "code",
   "execution_count": 34,
   "id": "6b6207f5",
   "metadata": {},
   "outputs": [
    {
     "name": "stdout",
     "output_type": "stream",
     "text": [
      "- | - | -\n",
      "----------\n",
      "- | - | -\n",
      "----------\n",
      "- | - | -\n"
     ]
    }
   ],
   "source": [
    "def print_board(board):\n",
    "    print(board[0] + \" | \" + board[1] + \" | \" + board[2])\n",
    "    print(\"----------\")\n",
    "    print(board[3] + \" | \" + board[4] + \" | \" + board[5])\n",
    "    print(\"----------\")\n",
    "    print(board[6] + \" | \" + board[7] + \" | \" + board[8])\n",
    "print_board(board)  \n",
    "    "
   ]
  },
  {
   "cell_type": "code",
   "execution_count": 35,
   "id": "d50edb66",
   "metadata": {},
   "outputs": [],
   "source": [
    "#player input"
   ]
  },
  {
   "cell_type": "code",
   "execution_count": 36,
   "id": "ba4661f3",
   "metadata": {},
   "outputs": [],
   "source": [
    "def player_input(board):\n",
    "    inp = int(input(\"Enter a number 1-9: \"))\n",
    "    if inp >= 1 and inp <= 9 and board[inp-1] == \"-\":\n",
    "        board[inp-1] = currentPlayer\n",
    "    else:\n",
    "        print(\"You have already done it\")\n",
    "    \n",
    "    "
   ]
  },
  {
   "cell_type": "code",
   "execution_count": 37,
   "id": "d3f9027b",
   "metadata": {},
   "outputs": [],
   "source": [
    "#check for win or tie\n",
    "def check_horizontal(board):\n",
    "    global winner\n",
    "    if board[0] == board[1] == board[2] and board[1] != \"-\":\n",
    "        winner = board[0]\n",
    "        return True\n",
    "    elif board[3] == board[4] == board[5] and board[3] != \"-\":\n",
    "        winner = board[3]\n",
    "        return True\n",
    "    elif board[6] == board[7] == board[8] and board[6] != \"-\":\n",
    "        winner = board[6]\n",
    "        return True    "
   ]
  },
  {
   "cell_type": "code",
   "execution_count": 38,
   "id": "4f8285b1",
   "metadata": {},
   "outputs": [],
   "source": [
    "def check_row(board):\n",
    "    global winner\n",
    "    if board[0] == board[3] == board[6] and board[0] != \"-\":\n",
    "        winner = board[0]\n",
    "        return True\n",
    "    elif board[1] == board[4] == board[7] and board[1] != \"-\":\n",
    "        winner = board[1]\n",
    "        return True\n",
    "    elif board[2] == board[5] == board[8] and board[2] != \"-\":\n",
    "        winner = board[2]\n",
    "        return True\n",
    "    "
   ]
  },
  {
   "cell_type": "code",
   "execution_count": 39,
   "id": "36db163f",
   "metadata": {},
   "outputs": [],
   "source": [
    "def check_diagonal(board):\n",
    "    global winner\n",
    "    if board[0] == board[4] == board[8] and board[0] != \"-\":\n",
    "        winner = board[0]\n",
    "        return True\n",
    "    elif board[2] == board[4] == board[6] and board[2] != \"-\":\n",
    "        winner = board[2]\n",
    "        return True"
   ]
  },
  {
   "cell_type": "code",
   "execution_count": 40,
   "id": "d6074611",
   "metadata": {},
   "outputs": [],
   "source": [
    "def check_tie(board):\n",
    "    global gameRunning\n",
    "    if \"-\" not in board:\n",
    "        print(\" it's a tie\")\n",
    "        gameRunning = False\n",
    "\n",
    "def check_win():\n",
    "    if check_diagonal(board) or check_horizontal(board) or check_row(board):\n",
    "        print(f\"The winner is {winner}\")\n",
    "    \n",
    "        "
   ]
  },
  {
   "cell_type": "code",
   "execution_count": 41,
   "id": "cf6aeb86",
   "metadata": {},
   "outputs": [],
   "source": [
    "#switch the player\n",
    "def switch_player():\n",
    "    global currentPlayer\n",
    "    if currentPlayer == \"X\":\n",
    "        currentPlayer = \"O\"\n",
    "    else:\n",
    "        currentPlayer = \"X\""
   ]
  },
  {
   "cell_type": "code",
   "execution_count": null,
   "id": "9c267e95",
   "metadata": {},
   "outputs": [],
   "source": []
  },
  {
   "cell_type": "code",
   "execution_count": 1,
   "id": "9ab494ab",
   "metadata": {},
   "outputs": [
    {
     "ename": "NameError",
     "evalue": "name 'gameRunning' is not defined",
     "output_type": "error",
     "traceback": [
      "\u001b[1;31m---------------------------------------------------------------------------\u001b[0m",
      "\u001b[1;31mNameError\u001b[0m                                 Traceback (most recent call last)",
      "Cell \u001b[1;32mIn[1], line 2\u001b[0m\n\u001b[0;32m      1\u001b[0m \u001b[38;5;66;03m#check for win or tie\u001b[39;00m\n\u001b[1;32m----> 2\u001b[0m \u001b[38;5;28;01mwhile\u001b[39;00m gameRunning:\n\u001b[0;32m      3\u001b[0m     print_board(board)\n\u001b[0;32m      4\u001b[0m     player_input(board)\n",
      "\u001b[1;31mNameError\u001b[0m: name 'gameRunning' is not defined"
     ]
    }
   ],
   "source": [
    "#check for win or tie\n",
    "while gameRunning:\n",
    "    print_board(board)\n",
    "    player_input(board)\n",
    "    switch_player()\n",
    "    check_tie(board)\n",
    "    check_win()\n",
    "    if winner or not gameRunning:\n",
    "        break\n",
    "        \n",
    "    "
   ]
  },
  {
   "cell_type": "code",
   "execution_count": null,
   "id": "2cdac581",
   "metadata": {},
   "outputs": [],
   "source": []
  },
  {
   "cell_type": "code",
   "execution_count": null,
   "id": "45348ea6",
   "metadata": {},
   "outputs": [],
   "source": []
  }
 ],
 "metadata": {
  "kernelspec": {
   "display_name": "Python 3 (ipykernel)",
   "language": "python",
   "name": "python3"
  },
  "language_info": {
   "codemirror_mode": {
    "name": "ipython",
    "version": 3
   },
   "file_extension": ".py",
   "mimetype": "text/x-python",
   "name": "python",
   "nbconvert_exporter": "python",
   "pygments_lexer": "ipython3",
   "version": "3.11.5"
  }
 },
 "nbformat": 4,
 "nbformat_minor": 5
}
